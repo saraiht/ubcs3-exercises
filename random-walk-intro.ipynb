{
 "cells": [
  {
   "cell_type": "markdown",
   "metadata": {},
   "source": [
    "# Random walks\n",
    "\n",
    "Let $ E = \\{ e_1, -e_1, \\ldots , e_d , - e_d \\} \\subset \\mathbb{R}^d $, \n",
    "where\n",
    "the components of $e_k$ are zero except for a $1$ in its $k$-th entry. \n",
    "Let $ \\{ \\eta_j \\} $ be independent and identically distributed random variables \n",
    "with uniform distribution over $E$, this is \n",
    "\\begin{equation*}\n",
    "  \\mathbb{P} ( \\eta_j = \\pm e_k ) =  \\frac{1}{2d},  \n",
    "\\end{equation*}\n",
    "for $ k = 1, \\ldots, d $ and $j  \\in  \\mathbb{N}$. \n",
    "The process $ (\\eta_j) $ is defined in the product probability space \n",
    "$ (\\Omega, \\mathcal{F}, \\mathbb{P}) $ where $ \\Omega = E^{\\times \\mathbb{N}} $\n",
    "is the space of $E$-valued sequences, \n",
    "$ \\mathcal{F} = (2^{E})^{\\times \\mathbb{N}} $ is the product $\\sigma$-algebra and $ \\mathbb{P} $ is the product measure.\n",
    "The process $(S_n)$ where $S_0 = x$ and\n",
    "\\begin{equation*}\n",
    "  S_n = \\sum_{ j = 1 }^n \\eta_j, \\qquad n \\in \\mathbb{N}\n",
    "\\end{equation*}\n",
    "is the *simple random walk in $d$-dimensions starting at $x$*.\n",
    "\n",
    "This project will simulate simple random walks in the square grid. As an exercise, it will also test some hypothesis. \n"
   ]
  },
  {
   "cell_type": "markdown",
   "metadata": {},
   "source": [
    "![Random walk (source: Wikipedia)](https://upload.wikimedia.org/wikipedia/commons/thumb/7/7c/Random_walk_2500.svg/209px-Random_walk_2500.svg.png)"
   ]
  },
  {
   "cell_type": "code",
   "execution_count": null,
   "metadata": {
    "collapsed": true
   },
   "outputs": [],
   "source": []
  }
 ],
 "metadata": {
  "kernelspec": {
   "display_name": "Python 3",
   "language": "python",
   "name": "python3"
  },
  "language_info": {
   "codemirror_mode": {
    "name": "ipython",
    "version": 3
   },
   "file_extension": ".py",
   "mimetype": "text/x-python",
   "name": "python",
   "nbconvert_exporter": "python",
   "pygments_lexer": "ipython3",
   "version": "3.5.1"
  }
 },
 "nbformat": 4,
 "nbformat_minor": 0
}
